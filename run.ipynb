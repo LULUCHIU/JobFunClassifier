{
 "cells": [
  {
   "cell_type": "code",
   "execution_count": 8,
   "metadata": {},
   "outputs": [],
   "source": [
    "# from JobFunClassifier.model import JobFunClassifier\n",
    "# model = JobFunClassifier()"
   ]
  },
  {
   "cell_type": "code",
   "execution_count": 4,
   "metadata": {},
   "outputs": [],
   "source": [
    "from jobfunclassifier.model import JobFunClassifier\n",
    "model = JobFunClassifier()"
   ]
  },
  {
   "cell_type": "code",
   "execution_count": 9,
   "metadata": {},
   "outputs": [],
   "source": [
    "text = \"\"\"\n",
    "Provides financial and investment planning and advice to deliver a solution in the best interests of the customer. Determines client needs and provides solutions though the sales of managed products and services (e.g. mutual funds, retirement savings plans, and similar products). Provides other solutions indirectly through referrals to business partners.\n",
    "\n",
    "Takes a lead in proactively engaging with new and existing customers and prospects by providing needs-based assessments to grow loyalty and identify immediate/future opportunities.\n",
    "Implements business development strategies to acquire new business (outbound calling campaigns and cultivating branch referrals).\n",
    "Engages customers to grow BMO’s business by reaching out, generating appointments, and building new relationships within the community.\n",
    "Identifies opportunities during customer conversations to generate referrals for personal and commercial banking products (e.g. personal banking, lending, and investments).\n",
    "Supports the achievement of sales and performance targets.\n",
    "Develops and implements a relationship management plan to meet the needs of client.\n",
    "Responds to customer investment requests to fulfill investment product needs aligned with the customer’s goals and refers the customer to partners where appropriate.\n",
    "Develops solutions and makes recommendations based on an understanding of the business strategy and stakeholder needs.\n",
    "Breaks down strategic problems, and analyses data and information to provide insights and recommendations.\n",
    "Executes work to deliver timely, accurate, and efficient service.\n",
    "Introduces clients to investment strategies and works with clients to set goals and make real financial progress using appropriate guidance tools.\n",
    "Probes to understand customer personal investment and banking needs and integrates marketing promotions and programs into customer conversations to provide strategic advice.\n",
    "Looks for ways to contribute to the ongoing improvement of the overall business results and customer experience delivered.\n",
    "Maintains current knowledge of personal investment products, practices, and trends and integrates into customer conversations.\n",
    "May work at multiple branches and through various channels based on market needs to deliver the desired customer experience and achieve overall business objectives.\n",
    "Builds effective relationships with internal/external stakeholders.\n",
    "Protects the Bank's assets and complies with all regulatory, legal, and ethical requirements.\n",
    "Focus may be on a business/group.\n",
    "Thinks creatively and proposes new solutions.\n",
    "Exercises judgment to identify, diagnose, and solve problems within given rules.\n",
    "Works mostly independently.\n",
    "Broader work or accountabilities may be assigned as needed.\n",
    "Qualifications:\n",
    "\n",
    "Typically between 3-5 years of relevant experience and post-secondary degree in related field of study or an equivalent combination of education and experience.\n",
    "CFP designation preferred or one of the following:\n",
    "Personal Financial Planner (PFP) designation,\n",
    "Wealth Management Essentials (WME) + Financial Planning Supplement, Professional Financial Planning Course (PFPC),\n",
    "Financial Planning I & II (FP I & II).\n",
    "Canadian Securities Course - Licensed to sell mutual funds excluding QC or IQPF in Quebec.\n",
    "Advanced working knowledge of financial industry.\n",
    "Specialized knowledge from education and/or business experience.\n",
    "Verbal & written communication skills - In-depth.\n",
    "Collaboration & team skills - In-depth.\n",
    "Analytical and problem solving skills - In-depth.\n",
    "Influence skills - In-depth.\n",
    "\"\"\""
   ]
  },
  {
   "cell_type": "code",
   "execution_count": 10,
   "metadata": {},
   "outputs": [
    {
     "data": {
      "text/plain": [
       "['Finance', 'Administrative', 'Sales']"
      ]
     },
     "execution_count": 10,
     "metadata": {},
     "output_type": "execute_result"
    }
   ],
   "source": [
    "# Make predictions using the model\n",
    "out_category = model.predict(text, top = 3)\n",
    "out_category"
   ]
  }
 ],
 "metadata": {
  "kernelspec": {
   "display_name": "base",
   "language": "python",
   "name": "python3"
  },
  "language_info": {
   "codemirror_mode": {
    "name": "ipython",
    "version": 3
   },
   "file_extension": ".py",
   "mimetype": "text/x-python",
   "name": "python",
   "nbconvert_exporter": "python",
   "pygments_lexer": "ipython3",
   "version": "3.10.10"
  }
 },
 "nbformat": 4,
 "nbformat_minor": 2
}
